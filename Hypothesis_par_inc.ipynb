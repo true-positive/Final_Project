{
 "cells": [
  {
   "cell_type": "code",
   "execution_count": 2,
   "metadata": {},
   "outputs": [],
   "source": [
    "import numpy as np\n",
    "import pandas as pd\n",
    "import scipy.stats as stats\n",
    "from scipy.stats import ttest_1samp,ttest_ind, mannwhitneyu,levene,shapiro,wilcoxon\n",
    "from statsmodels.stats.power import ttest_power\n",
    "import matplotlib.pyplot as plt\n",
    "%matplotlib inline\n",
    "import seaborn as sns\n",
    "import statistics as st"
   ]
  },
  {
   "cell_type": "code",
   "execution_count": 3,
   "metadata": {},
   "outputs": [],
   "source": [
    "golf=pd.read_csv('SM4.csv')"
   ]
  },
  {
   "cell_type": "code",
   "execution_count": 33,
   "metadata": {},
   "outputs": [
    {
     "data": {
      "text/html": [
       "<div>\n",
       "<style scoped>\n",
       "    .dataframe tbody tr th:only-of-type {\n",
       "        vertical-align: middle;\n",
       "    }\n",
       "\n",
       "    .dataframe tbody tr th {\n",
       "        vertical-align: top;\n",
       "    }\n",
       "\n",
       "    .dataframe thead th {\n",
       "        text-align: right;\n",
       "    }\n",
       "</style>\n",
       "<table border=\"1\" class=\"dataframe\">\n",
       "  <thead>\n",
       "    <tr style=\"text-align: right;\">\n",
       "      <th></th>\n",
       "      <th>Current</th>\n",
       "      <th>New</th>\n",
       "    </tr>\n",
       "  </thead>\n",
       "  <tbody>\n",
       "    <tr>\n",
       "      <th>count</th>\n",
       "      <td>40.000000</td>\n",
       "      <td>40.000000</td>\n",
       "    </tr>\n",
       "    <tr>\n",
       "      <th>mean</th>\n",
       "      <td>270.275000</td>\n",
       "      <td>267.500000</td>\n",
       "    </tr>\n",
       "    <tr>\n",
       "      <th>std</th>\n",
       "      <td>8.752985</td>\n",
       "      <td>9.896904</td>\n",
       "    </tr>\n",
       "    <tr>\n",
       "      <th>min</th>\n",
       "      <td>255.000000</td>\n",
       "      <td>250.000000</td>\n",
       "    </tr>\n",
       "    <tr>\n",
       "      <th>25%</th>\n",
       "      <td>263.000000</td>\n",
       "      <td>262.000000</td>\n",
       "    </tr>\n",
       "    <tr>\n",
       "      <th>50%</th>\n",
       "      <td>270.000000</td>\n",
       "      <td>265.000000</td>\n",
       "    </tr>\n",
       "    <tr>\n",
       "      <th>75%</th>\n",
       "      <td>275.250000</td>\n",
       "      <td>274.500000</td>\n",
       "    </tr>\n",
       "    <tr>\n",
       "      <th>max</th>\n",
       "      <td>289.000000</td>\n",
       "      <td>289.000000</td>\n",
       "    </tr>\n",
       "  </tbody>\n",
       "</table>\n",
       "</div>"
      ],
      "text/plain": [
       "          Current         New\n",
       "count   40.000000   40.000000\n",
       "mean   270.275000  267.500000\n",
       "std      8.752985    9.896904\n",
       "min    255.000000  250.000000\n",
       "25%    263.000000  262.000000\n",
       "50%    270.000000  265.000000\n",
       "75%    275.250000  274.500000\n",
       "max    289.000000  289.000000"
      ]
     },
     "execution_count": 33,
     "metadata": {},
     "output_type": "execute_result"
    }
   ],
   "source": [
    "golf.describe()"
   ]
  },
  {
   "cell_type": "code",
   "execution_count": 42,
   "metadata": {},
   "outputs": [
    {
     "data": {
      "text/plain": [
       "Current    0\n",
       "New        0\n",
       "dtype: int64"
      ]
     },
     "execution_count": 42,
     "metadata": {},
     "output_type": "execute_result"
    }
   ],
   "source": [
    "golf.isna().sum()"
   ]
  },
  {
   "cell_type": "code",
   "execution_count": 6,
   "metadata": {},
   "outputs": [],
   "source": [
    "Current=golf['Current']\n",
    "New=golf['New']"
   ]
  },
  {
   "cell_type": "markdown",
   "metadata": {},
   "source": [
    "****Calculating the Population Parameters****\n"
   ]
  },
  {
   "cell_type": "code",
   "execution_count": 8,
   "metadata": {},
   "outputs": [
    {
     "name": "stdout",
     "output_type": "stream",
     "text": [
      "Population Mean: 270.275\n",
      "Population Standard Deviation: 8.752984838884595\n"
     ]
    }
   ],
   "source": [
    "pop_mean_Current = Current.mean()\n",
    "pop_std_Current = st.stdev(Current)\n",
    "print(\"Population Mean: \"+str(pop_mean_Current))\n",
    "print(\"Population Standard Deviation: \"+str(pop_std_Current))"
   ]
  },
  {
   "cell_type": "markdown",
   "metadata": {},
   "source": [
    "****Calculating the Sample Parameters****"
   ]
  },
  {
   "cell_type": "code",
   "execution_count": 10,
   "metadata": {},
   "outputs": [
    {
     "name": "stdout",
     "output_type": "stream",
     "text": [
      "Population Mean: 267.5\n",
      "Sample Mean: 262.5\n",
      "Sample Standard Deviation: 4.509249752822894\n"
     ]
    }
   ],
   "source": [
    "print(\"Population Mean: \"+str(New.mean()))\n",
    "golf_New_sample = New.sample(frac=0.10)\n",
    "sample_mean_New = golf_New_sample.mean()\n",
    "print(\"Sample Mean: \"+str(sample_mean_New))\n",
    "sample_std_New = st.stdev(golf_New_sample)\n",
    "print(\"Sample Standard Deviation: \"+str(sample_std_New))"
   ]
  },
  {
   "cell_type": "markdown",
   "metadata": {},
   "source": [
    "****Hypothesis:****\n",
    "\n",
    "**H0**: Distance covered Current ball and New ball doesnt change \n",
    "\n",
    "**Ha**: Distance covered by Current and New ball are not equal\n",
    "\n",
    "****Population Parameters:****\n",
    "\n",
    "Mean=pop_mean_Current\n",
    "\n",
    "Std=pop_std_Current\n",
    "\n",
    "****Sample Parameters:****\n",
    "\n",
    "Mean=sample_mean_New\n",
    "\n",
    "Std=sample_std_New"
   ]
  },
  {
   "cell_type": "code",
   "execution_count": 14,
   "metadata": {},
   "outputs": [],
   "source": [
    "Z_Stat=((sample_mean_New - pop_mean_Current )* np.sqrt(4))/sample_std_New"
   ]
  },
  {
   "cell_type": "code",
   "execution_count": 15,
   "metadata": {},
   "outputs": [
    {
     "data": {
      "text/plain": [
       "-3.448467229003072"
      ]
     },
     "execution_count": 15,
     "metadata": {},
     "output_type": "execute_result"
    }
   ],
   "source": [
    "Z_Stat"
   ]
  },
  {
   "cell_type": "markdown",
   "metadata": {},
   "source": [
    "Conclusion: As the test statistics fall into the rejection region the null hypothesis is rejected\n",
    "and it can be concluded that the distance of new ball decreases.\n",
    "However, we will first check for the Type 1 and Type 2 Errors"
   ]
  },
  {
   "cell_type": "code",
   "execution_count": 58,
   "metadata": {
    "scrolled": true
   },
   "outputs": [
    {
     "name": "stdout",
     "output_type": "stream",
     "text": [
      "-1.7733465125020238\n"
     ]
    }
   ],
   "source": [
    "pop_mean_New = New.mean()\n",
    "pop_std_New = st.stdev(New)\n",
    "\n",
    "zscore_error = ((pop_mean_New - pop_mean_Current)*np.sqrt(40)/pop_std_New)\n",
    "print(zscore_error)"
   ]
  },
  {
   "cell_type": "code",
   "execution_count": 71,
   "metadata": {},
   "outputs": [
    {
     "data": {
      "text/plain": [
       "0.03836357036287122"
      ]
     },
     "execution_count": 71,
     "metadata": {},
     "output_type": "execute_result"
    }
   ],
   "source": [
    "stats.norm.cdf(-1.77)"
   ]
  },
  {
   "cell_type": "markdown",
   "metadata": {},
   "source": [
    "Since it is two tailed test at Confidence interval of 95% level of significance becomes .025 each side for which z critical is -1.95 and 1.95 , hence we see that z_stat is < z critical hence we can not reject null hypothesis, hence we have committed Type 1 error\n",
    "\n",
    "P-Val: .038"
   ]
  },
  {
   "cell_type": "markdown",
   "metadata": {},
   "source": [
    "****At Current Confidence Interval Mean Lies Between****"
   ]
  },
  {
   "cell_type": "code",
   "execution_count": 92,
   "metadata": {},
   "outputs": [
    {
     "name": "stdout",
     "output_type": "stream",
     "text": [
      "There is 95% Probability that True Population Mean of Current Ball Distance is in Between267.22 & 273.33\n"
     ]
    }
   ],
   "source": [
    "print(\"There is 95% Probability that True Population Mean of Current Ball Distance is in Between\"+str(round(((-1.95 * pop_std_New)/np.sqrt(40))+ pop_mean_Current,2)) +str(' & ') +str(round(((1.95 * pop_std_New)/np.sqrt(40))+ pop_mean_Current,2)))\n"
   ]
  },
  {
   "cell_type": "code",
   "execution_count": 96,
   "metadata": {},
   "outputs": [
    {
     "name": "stdout",
     "output_type": "stream",
     "text": [
      "There is 95% Probability that True Population Mean of New   Ball Distance is in Between264.45 & 270.55\n"
     ]
    }
   ],
   "source": [
    "print(\"There is 95% Probability that True Population Mean of New   Ball Distance is in Between\" +str(round((((1.95 * pop_std_New)/np.sqrt(40)) - pop_mean_New)*-1,2)) +str(' & ') +str(round((((-1.95 * pop_std_New)/np.sqrt(40)) - pop_mean_New)*-1,2)))"
   ]
  },
  {
   "cell_type": "markdown",
   "metadata": {},
   "source": [
    "There is 95%probability that the true population mean is between 267.22 and 273.33 (New Ball Distance)\n",
    "\n",
    "There is 95%probability that the true population mean is between 264.45 and 270.55 (Current Ball Distance)\n",
    "\n",
    "And by their confidence intervals, we can say that there is no significance difference between the driving distances of Current Model and New Model. "
   ]
  },
  {
   "cell_type": "markdown",
   "metadata": {},
   "source": [
    "****Non-Parameteric 2 Sample test****"
   ]
  },
  {
   "cell_type": "code",
   "execution_count": 55,
   "metadata": {},
   "outputs": [],
   "source": [
    "u,P_Val=mannwhitneyu(Current,New)"
   ]
  },
  {
   "cell_type": "code",
   "execution_count": 57,
   "metadata": {},
   "outputs": [
    {
     "data": {
      "text/plain": [
       "0.10265192122893124"
      ]
     },
     "execution_count": 57,
     "metadata": {},
     "output_type": "execute_result"
    }
   ],
   "source": [
    "P_Val"
   ]
  },
  {
   "cell_type": "markdown",
   "metadata": {},
   "source": [
    "****Power Test****"
   ]
  },
  {
   "cell_type": "code",
   "execution_count": 42,
   "metadata": {},
   "outputs": [],
   "source": [
    "stdpooled=np.sqrt((((40-1)*Current.var())+((40-1)*New.var()))/(40+40-2))"
   ]
  },
  {
   "cell_type": "code",
   "execution_count": 43,
   "metadata": {},
   "outputs": [
    {
     "data": {
      "text/plain": [
       "9.342469200871404"
      ]
     },
     "execution_count": 43,
     "metadata": {},
     "output_type": "execute_result"
    }
   ],
   "source": [
    "stdpooled"
   ]
  },
  {
   "cell_type": "code",
   "execution_count": 44,
   "metadata": {},
   "outputs": [],
   "source": [
    "zcal=(New.mean()- Current.mean())/stdpooled"
   ]
  },
  {
   "cell_type": "code",
   "execution_count": 45,
   "metadata": {},
   "outputs": [
    {
     "data": {
      "text/plain": [
       "-0.2970306821820877"
      ]
     },
     "execution_count": 45,
     "metadata": {},
     "output_type": "execute_result"
    }
   ],
   "source": [
    "zcal"
   ]
  },
  {
   "cell_type": "code",
   "execution_count": 54,
   "metadata": {},
   "outputs": [
    {
     "data": {
      "text/plain": [
       "0.44919938117044644"
      ]
     },
     "execution_count": 54,
     "metadata": {},
     "output_type": "execute_result"
    }
   ],
   "source": [
    "ttest_power(-.297,nobs=40,alpha=.05,alternative='two-sided')"
   ]
  },
  {
   "cell_type": "markdown",
   "metadata": {},
   "source": [
    "There are 44.9% chance for me to reject Ho when it be false"
   ]
  },
  {
   "cell_type": "markdown",
   "metadata": {},
   "source": [
    "****Levene Test****"
   ]
  },
  {
   "cell_type": "code",
   "execution_count": 72,
   "metadata": {},
   "outputs": [
    {
     "data": {
      "text/plain": [
       "LeveneResult(statistic=0.2553238291765741, pvalue=0.6147759523331309)"
      ]
     },
     "execution_count": 72,
     "metadata": {},
     "output_type": "execute_result"
    }
   ],
   "source": [
    "levene(Current,New)"
   ]
  },
  {
   "cell_type": "markdown",
   "metadata": {},
   "source": [
    "Since pvalue frome levene test is greater than the level of significance , we say that variance in both samples are equal that is we accept the null hypothesis which states varation in distance measured for current and new ball are similar "
   ]
  },
  {
   "cell_type": "markdown",
   "metadata": {},
   "source": [
    "****Shapiro Test****"
   ]
  },
  {
   "cell_type": "code",
   "execution_count": 99,
   "metadata": {},
   "outputs": [
    {
     "name": "stdout",
     "output_type": "stream",
     "text": [
      "Normality Test For New (0.9678265452384949, 0.3064688742160797)\n",
      "Normality Test For Current(0.9707045555114746, 0.37878310680389404)\n"
     ]
    }
   ],
   "source": [
    "print(\"Normality Test For New \" +str(shapiro(New)))\n",
    "print(\"Normality Test For Current\" +str(shapiro(Current)))"
   ]
  },
  {
   "cell_type": "markdown",
   "metadata": {},
   "source": [
    "Null Hypothesis for shapiro test:\n",
    "\n",
    "Ho: Population is normally Distributed\n",
    "\n",
    "Ha: Population is not normally Distributed\n",
    "\n",
    "Since pvalue for both population Current and New is greater than the level of significance , it states that our Ho is not rejected"
   ]
  },
  {
   "cell_type": "markdown",
   "metadata": {},
   "source": [
    "****Conclusion****\n",
    "\n",
    "My recommendation for the company Par.Inc. is to continue with further study of the improved cut-resistant, longer lasting golf ball. But ofcourse, Par, Inc. should also consider other factors like costing,availability of suppliers and the like before finalizing and launching the product. With this Newly developed ball considering it's only given factor i.e. distance we conclude that it wont have any significant effect on market share that is it wont increase Par inc. market share. For concrete conclusion Par inc. should provide other variables apart from distance"
   ]
  },
  {
   "cell_type": "code",
   "execution_count": null,
   "metadata": {},
   "outputs": [],
   "source": []
  },
  {
   "cell_type": "code",
   "execution_count": null,
   "metadata": {},
   "outputs": [],
   "source": []
  }
 ],
 "metadata": {
  "kernelspec": {
   "display_name": "Python 3",
   "language": "python",
   "name": "python3"
  },
  "language_info": {
   "codemirror_mode": {
    "name": "ipython",
    "version": 3
   },
   "file_extension": ".py",
   "mimetype": "text/x-python",
   "name": "python",
   "nbconvert_exporter": "python",
   "pygments_lexer": "ipython3",
   "version": "3.7.2"
  }
 },
 "nbformat": 4,
 "nbformat_minor": 2
}
